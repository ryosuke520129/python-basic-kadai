{
  "nbformat": 4,
  "nbformat_minor": 0,
  "metadata": {
    "colab": {
      "provenance": []
    },
    "kernelspec": {
      "name": "python3",
      "display_name": "Python 3"
    },
    "language_info": {
      "name": "python"
    }
  },
  "cells": [
    {
      "cell_type": "code",
      "execution_count": 7,
      "metadata": {
        "colab": {
          "base_uri": "https://localhost:8080/"
        },
        "id": "gJuvZJjDcUZH",
        "outputId": "cae92350-506e-445d-9080-4a76f62e13e5"
      },
      "outputs": [
        {
          "output_type": "stream",
          "name": "stdout",
          "text": [
            "齋藤さんは大人です。\n",
            "岸川さんは大人です。\n",
            "田中さんは大人です。\n",
            "唐澤さんは大人ではありません。\n"
          ]
        }
      ],
      "source": [
        "# nameとageの属性を持つHumanクラスを作成\n",
        "class Human:\n",
        "  def __init__(self, name, age):\n",
        "    self.name = name\n",
        "    self.age = age\n",
        "\n",
        "# 大人かどうかを出力するcheck_adultメソッドを追加\n",
        "  def check_adult(self):\n",
        "    if self.age >= 20:\n",
        "      print(f\"{self.name}さんは大人です。\")\n",
        "    else:\n",
        "      print(f\"{self.name}さんは大人ではありません。\")\n",
        "\n",
        "# Humanクラスのインスタンスを複数生成\n",
        "saito = Human(\"齋藤\", 31)\n",
        "kishikawa = Human(\"岸川\", 29)\n",
        "tanaka = Human(\"田中\", 24)\n",
        "karasawa = Human(\"唐澤\", 19)\n",
        "\n",
        "# 生成したインスタンスをリストに代入し、それぞれにcheck_adultメソッドを実行\n",
        "users = [saito, kishikawa, tanaka, karasawa]\n",
        "for user in users:\n",
        "  user.check_adult()\n",
        "\n",
        "\n",
        "\n"
      ]
    }
  ]
}