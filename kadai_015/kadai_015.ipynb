{
  "nbformat": 4,
  "nbformat_minor": 0,
  "metadata": {
    "colab": {
      "provenance": []
    },
    "kernelspec": {
      "name": "python3",
      "display_name": "Python 3"
    },
    "language_info": {
      "name": "python"
    }
  },
  "cells": [
    {
      "cell_type": "code",
      "execution_count": 1,
      "metadata": {
        "colab": {
          "base_uri": "https://localhost:8080/"
        },
        "id": "R69chh9dUy37",
        "outputId": "bf0bfea4-4ed8-42c0-d7e8-0c495a0d29d8"
      },
      "outputs": [
        {
          "output_type": "stream",
          "name": "stdout",
          "text": [
            "齋藤\n",
            "31\n"
          ]
        }
      ],
      "source": [
        "# 名前(name)と年齢(age)の属性を持つHumanクラスを作成\n",
        "class Human:\n",
        "  def __init__(self, name, age):\n",
        "    self.name = name\n",
        "    self.age = age\n",
        "\n",
        "  # nameとageを標準出力(print)するメソッド(printinfo)を追加\n",
        "  def print_info(self):\n",
        "    print(self.name)\n",
        "    print(self.age)\n",
        "\n",
        "# Humanクラスのインスタンスを変数に代入してプログラム内で使用\n",
        "saito = Human(\"齋藤\", 31)\n",
        "saito.print_info()"
      ]
    }
  ]
}