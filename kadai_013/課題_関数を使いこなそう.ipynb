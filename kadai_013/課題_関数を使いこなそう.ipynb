{
  "nbformat": 4,
  "nbformat_minor": 0,
  "metadata": {
    "colab": {
      "provenance": []
    },
    "kernelspec": {
      "name": "python3",
      "display_name": "Python 3"
    },
    "language_info": {
      "name": "python"
    }
  },
  "cells": [
    {
      "cell_type": "code",
      "execution_count": 2,
      "metadata": {
        "colab": {
          "base_uri": "https://localhost:8080/"
        },
        "id": "e9OdQLQauO7f",
        "outputId": "814677c6-3aeb-4f0a-9561-68a50509adb9"
      },
      "outputs": [
        {
          "output_type": "stream",
          "name": "stdout",
          "text": [
            "1100.0円\n"
          ]
        }
      ],
      "source": [
        "def calculate_total(price, tax):\n",
        "  total = price * (1 + tax)\n",
        "  print(f\"{total}円\")\n",
        "\n",
        "calculate_total(1000,0.1)"
      ]
    }
  ]
}